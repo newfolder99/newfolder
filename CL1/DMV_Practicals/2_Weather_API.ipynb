{
 "cells": [
  {
   "cell_type": "code",
   "execution_count": null,
   "id": "0b19646c-c9f1-4a76-a970-5e4fde0166f8",
   "metadata": {},
   "outputs": [],
   "source": [
    "import requests\n",
    "import pandas as pd\n",
    "import json\n",
    "\n",
    "# Example usage\n",
    "api_key = 'bb4e15af4d57941a734fd8e8156aa737'  # Replace with your actual API key\n",
    "#For nashik\n",
    "lat = '19.997454'  # Latitude for the desired location\n",
    "lon = '73.789803'  # Longitude for the desired location\n",
    "\n",
    "url = f'https://api.openweathermap.org/data/2.5/forecast?lat={lat}&lon={lon}&appid={api_key}' # <-- This is app id also known as api key, which you have to generate your own, and paste it here\n",
    "\n",
    "#vurl ='https://api.openweathermap.org/data/2.5/weather?lat=44.34&lon=10.99&appid=307d11bca480dd730d99187c926&city_name=London'\n",
    "response = requests.get(url)\n",
    "data = response.json()\n",
    "pretty_json = json.dumps(data,indent=4)\n",
    "print(pretty_json)"
   ]
  },
  {
   "cell_type": "code",
   "execution_count": null,
   "id": "34e5e10f-916a-4d6d-a9a7-b380eecae45d",
   "metadata": {},
   "outputs": [],
   "source": [
    "weather_list = []\n",
    "\n",
    "# Extract relevant information for each forecast entry\n",
    "for entry in data['list']:\n",
    "    temperature = entry['main']['temp']\n",
    "    humidity = entry['main']['humidity']\n",
    "    wind_speed = entry['wind']['speed']\n",
    "    weather_description = entry['weather'][0]['description']\n",
    "    date_time = entry['dt_txt']  # This is the date and time in 'YYYY-MM-DD HH:MM:SS' format\n",
    "    \n",
    "    # Split date_time into date and time\n",
    "    date, time = date_time.split(' ')\n",
    "    \n",
    "    # Append the extracted information as a dictionary\n",
    "    weather_list.append({\n",
    "        'Temperature': temperature,\n",
    "        'Humidity': humidity,\n",
    "        'Wind Speed': wind_speed,\n",
    "        'Weather Description': weather_description,\n",
    "        'Date Time': date_time,\n",
    "        'Date': date,\n",
    "        'Time': time\n",
    "    })\n",
    "\n",
    "# Create a DataFrame from the weather_list\n",
    "weather_df = pd.DataFrame(weather_list)\n",
    "\n",
    "# Display the DataFrame\n",
    "weather_df.head()"
   ]
  },
  {
   "cell_type": "code",
   "execution_count": null,
   "id": "80ffd3b5-abbf-4144-abb6-00a6028aaf63",
   "metadata": {},
   "outputs": [],
   "source": [
    "# Fill missing values or drop rows if needed (example: fill with the mean)\n",
    "# Check for missing values\n",
    "print(weather_df.isnull().sum())\n",
    "\n",
    "# Fill missing values or drop rows if needed (example: fill with the mean)\n",
    "# Using .loc to select multiple columns correctly\n",
    "weather_df[['Temperature', 'Humidity', 'Wind Speed']] = weather_df[['Temperature', 'Humidity', 'Wind Speed']].fillna(weather_df[['Temperature', 'Humidity', 'Wind Speed']].mean())\n",
    "\n",
    "# Ensure data types are correct (optional)\n",
    "weather_df['Temperature'] = weather_df['Temperature'].astype(float)\n",
    "weather_df['Humidity'] = weather_df['Humidity'].astype(float)\n",
    "weather_df['Wind Speed'] = weather_df['Wind Speed'].astype(float)\n",
    "\n",
    "weather_df.head()"
   ]
  },
  {
   "cell_type": "code",
   "execution_count": null,
   "id": "8ce46c86-1bf8-4baf-b6f1-519760567deb",
   "metadata": {},
   "outputs": [],
   "source": [
    "weather_df.info()"
   ]
  },
  {
   "cell_type": "code",
   "execution_count": null,
   "id": "b5bb1a05-48f1-4c3a-bac6-fb6ff2ea40b1",
   "metadata": {},
   "outputs": [],
   "source": [
    "# Calculate average temperature\n",
    "average_temperature = weather_df['Temperature'].mean()\n",
    "print(f'Average Temperature: {average_temperature:.2f}°C')\n",
    "\n",
    "# Maximum and minimum temperature\n",
    "max_temperature = weather_df['Temperature'].max()\n",
    "min_temperature = weather_df['Temperature'].min()\n",
    "print(f'Max Temperature: {max_temperature:.2f}°C, Min Temperature: {min_temperature:.2f}°C')\n",
    "weather_df.describe()"
   ]
  },
  {
   "cell_type": "code",
   "execution_count": null,
   "id": "684f43ed-8e3a-4f85-8b3c-fa5ba8d602ee",
   "metadata": {},
   "outputs": [],
   "source": [
    "import matplotlib.pyplot as plt\n",
    "import seaborn as sns\n",
    "\n",
    "# Line chart for temperature changes over time\n",
    "plt.figure(figsize=(12, 6))\n",
    "plt.plot(weather_df['Date Time'], weather_df['Temperature'], marker='o', linestyle='-')\n",
    "plt.title('Temperature Changes Over Time')\n",
    "plt.xlabel('Date Time')\n",
    "plt.ylabel('Temperature (°C)')\n",
    "plt.xticks(rotation=45)\n",
    "plt.tight_layout()\n",
    "plt.show()\n",
    "\n",
    "# Bar plot for humidity\n",
    "plt.figure(figsize=(12, 6))\n",
    "plt.bar(weather_df['Date Time'], weather_df['Humidity'], color='skyblue')\n",
    "plt.title('Humidity Levels Over Time')\n",
    "plt.xlabel('Date Time')\n",
    "plt.ylabel('Humidity (%)')\n",
    "plt.xticks(rotation=45)\n",
    "plt.tight_layout()\n",
    "plt.show()\n",
    "\n",
    "# Bar plot for windspeed\n",
    "plt.figure(figsize=(12, 6))\n",
    "plt.bar(weather_df['Date Time'], weather_df['Wind Speed'], color='skyblue')\n",
    "plt.title('Wind Speed Over Time')\n",
    "plt.xlabel('Date Time')\n",
    "plt.ylabel('Wind Speed (km/hr)')\n",
    "plt.xticks(rotation=45)\n",
    "plt.tight_layout()\n",
    "plt.show()"
   ]
  },
  {
   "cell_type": "code",
   "execution_count": null,
   "id": "50b49dd3-5ee5-4bf2-a223-cfed87c46df6",
   "metadata": {},
   "outputs": [],
   "source": [
    "# Convert 'Date Time' to datetime format\n",
    "weather_df['Date Time'] = pd.to_datetime(weather_df['Date Time'])\n",
    "\n",
    "# Aggregate daily data\n",
    "daily_summary = weather_df.resample('D', on='Date Time').agg({\n",
    "    'Temperature': ['mean', 'max', 'min'],\n",
    "    'Humidity': 'mean',\n",
    "    'Wind Speed': 'mean'\n",
    "}).reset_index()\n",
    "\n",
    "print(daily_summary)"
   ]
  },
  {
   "cell_type": "code",
   "execution_count": null,
   "id": "34d7f755-a5b1-463b-8b4c-6b0beffeefa7",
   "metadata": {},
   "outputs": [],
   "source": [
    "# Correlation matrix\n",
    "correlation = weather_df[['Temperature', 'Humidity', 'Wind Speed']].corr()\n",
    "\n",
    "# Heatmap\n",
    "plt.figure(figsize=(8, 6))\n",
    "sns.heatmap(correlation, annot=True, cmap='coolwarm', fmt='.2f')\n",
    "plt.title('Correlation between Weather Attributes')\n",
    "plt.show()"
   ]
  },
  {
   "cell_type": "code",
   "execution_count": null,
   "id": "2166b386-7783-46e3-9b08-8f219e764904",
   "metadata": {},
   "outputs": [],
   "source": []
  }
 ],
 "metadata": {
  "kernelspec": {
   "display_name": "Python 3 (ipykernel)",
   "language": "python",
   "name": "python3"
  },
  "language_info": {
   "codemirror_mode": {
    "name": "ipython",
    "version": 3
   },
   "file_extension": ".py",
   "mimetype": "text/x-python",
   "name": "python",
   "nbconvert_exporter": "python",
   "pygments_lexer": "ipython3",
   "version": "3.10.11"
  }
 },
 "nbformat": 4,
 "nbformat_minor": 5
}
