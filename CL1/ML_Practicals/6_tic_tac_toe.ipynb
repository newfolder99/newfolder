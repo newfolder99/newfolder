{
 "cells": [
  {
   "cell_type": "code",
   "execution_count": 1,
   "id": "111cc117-76e1-4efc-909c-98d94d361155",
   "metadata": {},
   "outputs": [],
   "source": [
    "import numpy as np\n",
    "import random\n",
    "\n",
    "class TicTacToe:\n",
    "    def __init__(self):\n",
    "        self.board = np.zeros((3, 3), dtype=int)  # 0: empty, 1: Player 1 (X), -1: Player 2 (O)\n",
    "        self.done = False\n",
    "        self.winner = None\n",
    "\n",
    "    def reset(self):\n",
    "        self.board = np.zeros((3, 3), dtype=int)\n",
    "        self.done = False\n",
    "        self.winner = None\n",
    "        return self.board\n",
    "\n",
    "    def is_valid_move(self, row, col):\n",
    "        return self.board[row, col] == 0\n",
    "\n",
    "    def make_move(self, row, col, player):\n",
    "        if self.is_valid_move(row, col):\n",
    "            self.board[row, col] = player\n",
    "            self.check_winner()\n",
    "            return True\n",
    "        return False\n",
    "\n",
    "    def check_winner(self):\n",
    "        for i in range(3):\n",
    "            if abs(sum(self.board[i, :])) == 3 or abs(sum(self.board[:, i])) == 3:\n",
    "                self.done = True\n",
    "                self.winner = 1 if sum(self.board[i, :]) == 3 or sum(self.board[:, i]) == 3 else -1\n",
    "                return\n",
    "        if abs(sum([self.board[i, i] for i in range(3)])) == 3 or abs(sum([self.board[i, 2 - i] for i in range(3)])) == 3:\n",
    "            self.done = True\n",
    "            self.winner = 1 if sum([self.board[i, i] for i in range(3)]) == 3 else -1\n",
    "        elif not (self.board == 0).any():\n",
    "            self.done = True\n",
    "            self.winner = 0  # Draw\n",
    "\n",
    "    def get_state(self):\n",
    "        return tuple(self.board.reshape(9))\n"
   ]
  },
  {
   "cell_type": "code",
   "execution_count": 2,
   "id": "c42dedc8-ae0d-46d3-bd82-7af71951fa92",
   "metadata": {},
   "outputs": [],
   "source": [
    "class QLearningAgent:\n",
    "    def __init__(self, alpha=0.1, gamma=0.9, epsilon=1.0, epsilon_decay=0.99):\n",
    "        self.q_table = {}\n",
    "        self.alpha = alpha      # Learning rate\n",
    "        self.gamma = gamma      # Discount factor\n",
    "        self.epsilon = epsilon  # Exploration rate\n",
    "        self.epsilon_decay = epsilon_decay\n",
    "\n",
    "    def get_q_value(self, state, action):\n",
    "        return self.q_table.get((state, action), 0)\n",
    "\n",
    "    def choose_action(self, state, available_actions):\n",
    "        if random.uniform(0, 1) < self.epsilon:\n",
    "            return random.choice(available_actions)  # Explore\n",
    "        else:\n",
    "            q_values = [self.get_q_value(state, action) for action in available_actions]\n",
    "            max_q = max(q_values)\n",
    "            max_actions = [action for action, q in zip(available_actions, q_values) if q == max_q]\n",
    "            return random.choice(max_actions)  # Exploit\n",
    "\n",
    "    def update_q_table(self, state, action, reward, next_state, next_available_actions):\n",
    "        max_next_q = max([self.get_q_value(next_state, a) for a in next_available_actions], default=0)\n",
    "        current_q = self.get_q_value(state, action)\n",
    "        new_q = current_q + self.alpha * (reward + self.gamma * max_next_q - current_q)\n",
    "        self.q_table[(state, action)] = new_q\n",
    "        self.epsilon *= self.epsilon_decay\n"
   ]
  },
  {
   "cell_type": "code",
   "execution_count": 3,
   "id": "46d38422-5bd8-426d-aedd-59fa32177e1d",
   "metadata": {},
   "outputs": [],
   "source": [
    "def train(agent, game, episodes=10000):\n",
    "    for _ in range(episodes):\n",
    "        state = game.reset()\n",
    "        current_player = 1  # Player 1 starts\n",
    "        while not game.done:\n",
    "            available_actions = [(i, j) for i in range(3) for j in range(3) if game.is_valid_move(i, j)]\n",
    "            action = agent.choose_action(state, available_actions)\n",
    "            game.make_move(*action, current_player)\n",
    "            next_state = game.get_state()\n",
    "            reward = 1 if game.winner == current_player else 0 if game.winner is None else -1\n",
    "            agent.update_q_table(state, action, reward, next_state, available_actions)\n",
    "            state = next_state\n",
    "            current_player = -current_player"
   ]
  },
  {
   "cell_type": "code",
   "execution_count": 4,
   "id": "231c20a4-68d7-4e64-8c56-0b66c7f6967c",
   "metadata": {},
   "outputs": [],
   "source": [
    "def test(agent, game, games=100):\n",
    "    wins, draws, losses = 0, 0, 0\n",
    "    for _ in range(games):\n",
    "        state = game.reset()\n",
    "        current_player = 1\n",
    "        while not game.done:\n",
    "            available_actions = [(i, j) for i in range(3) for j in range(3) if game.is_valid_move(i, j)]\n",
    "            if current_player == 1:\n",
    "                action = agent.choose_action(state, available_actions)\n",
    "            else:\n",
    "                action = random.choice(available_actions)\n",
    "            game.make_move(*action, current_player)\n",
    "            state = game.get_state()\n",
    "            current_player = -current_player\n",
    "\n",
    "        if game.winner == 1:\n",
    "            wins += 1\n",
    "        elif game.winner == -1:\n",
    "            losses += 1\n",
    "        else:\n",
    "            draws += 1\n",
    "\n",
    "    print(f\"Wins: {wins}, Draws: {draws}, Losses: {losses}\")"
   ]
  },
  {
   "cell_type": "code",
   "execution_count": 7,
   "id": "60cb4321-c727-4547-9353-a53fa1ca14e9",
   "metadata": {},
   "outputs": [
    {
     "name": "stdout",
     "output_type": "stream",
     "text": [
      "Wins: 51, Draws: 15, Losses: 34\n"
     ]
    }
   ],
   "source": [
    "agent = QLearningAgent()\n",
    "game = TicTacToe()\n",
    "test(agent, game, games=100)"
   ]
  }
 ],
 "metadata": {
  "kernelspec": {
   "display_name": "Python 3 (ipykernel)",
   "language": "python",
   "name": "python3"
  },
  "language_info": {
   "codemirror_mode": {
    "name": "ipython",
    "version": 3
   },
   "file_extension": ".py",
   "mimetype": "text/x-python",
   "name": "python",
   "nbconvert_exporter": "python",
   "pygments_lexer": "ipython3",
   "version": "3.10.11"
  }
 },
 "nbformat": 4,
 "nbformat_minor": 5
}
